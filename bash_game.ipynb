{
 "cells": [
  {
   "cell_type": "markdown",
   "id": "a6655d2a",
   "metadata": {},
   "source": [
    "## Bash Game"
   ]
  },
  {
   "cell_type": "code",
   "execution_count": null,
   "id": "990980ea",
   "metadata": {},
   "outputs": [],
   "source": [
    "# You are playing the following game with your friend: There is a pile of stones on the table, \n",
    "#     each time one of you take turns to remove 1 to 3 stones. The one who removes the last stone will be the winner. \n",
    "#     You will take the first turn to remove stones.\n",
    "\n",
    "# Both of you are very clever and have optimal strategies for the game. \n",
    "# Write a function to determine whether you can win the game given the number of stones.\n",
    "\n",
    "# For example, if there are 4 stones, then you will never win the game: \n",
    "#     no matter 1, 2, or 3 stones you remove, the last stone will always be removed by your friend."
   ]
  },
  {
   "cell_type": "code",
   "execution_count": 1,
   "id": "b50afed1",
   "metadata": {},
   "outputs": [
    {
     "name": "stdout",
     "output_type": "stream",
     "text": [
      "Enter the number: 7896\n"
     ]
    }
   ],
   "source": [
    "num = int(input(\"Enter the number: \"))  "
   ]
  },
  {
   "cell_type": "code",
   "execution_count": null,
   "id": "4d8b9640",
   "metadata": {},
   "outputs": [],
   "source": [
    "# If the number num % 5 = 0, and % 6 = 0, % 7 = 0 that is the winning num."
   ]
  },
  {
   "cell_type": "code",
   "execution_count": 2,
   "id": "137bbfa8",
   "metadata": {},
   "outputs": [
    {
     "name": "stdout",
     "output_type": "stream",
     "text": [
      "mod5 = 1, mod6 = 0, mod7 = 0\n"
     ]
    }
   ],
   "source": [
    "mod5 = num % 5\n",
    "mod6 = num % 6\n",
    "mod7 = num % 7\n",
    "print(f\"mod5 = {mod5}, mod6 = {mod6}, mod7 = {mod7}\")"
   ]
  },
  {
   "cell_type": "code",
   "execution_count": null,
   "id": "39cb2687",
   "metadata": {},
   "outputs": [],
   "source": [
    "# if mod5 = 4 and num >= 49, winning number; or mod5 = 1,  num must >= 6; mod5 = 2, number must >=12; mod5 = 3 num >= 18;\n",
    "# if mod6 = 5 wining num; mod6 = 4 num >=40; mod6 = 3, num >=63; mod6 = 2, num >= 20; mod6 = 1, num >=25;\n",
    "# if mod7 = 6 winning num; mod7 = 5 winning num; mod7 = 4, num>=11; mod7 = 3, num >=17; mod7 = 2, num >=23; mod7 =1, num >=15; "
   ]
  },
  {
   "cell_type": "code",
   "execution_count": 20,
   "id": "1476f062",
   "metadata": {},
   "outputs": [
    {
     "name": "stdout",
     "output_type": "stream",
     "text": [
      "mod5 = 3, mod6 = 2, mod7 = 1, mod11 = 8, mod13 = 8, num = 8\n",
      "mod5 = 4, mod6 = 3, mod7 = 2, mod11 = 9, mod13 = 9, num = 9\n"
     ]
    }
   ],
   "source": [
    "for num in range(5, 500):\n",
    "    mod5 = num % 5\n",
    "    mod6 = num % 6\n",
    "    mod7 = num % 7\n",
    "    mod11 = num % 11\n",
    "    mod13 = num % 13\n",
    "    mod10 = num % 10\n",
    "    mod20 = num % 20\n",
    "    if mod5==0 or mod6==0 or mod7==0 or mod11==0 or mod13==0:\n",
    "        pass\n",
    "    elif mod6==5 or mod7==5 or mod11==5 or mod13==5:\n",
    "        pass\n",
    "    elif mod7==6 or mod11==6 or mod13==6:\n",
    "        pass\n",
    "    elif mod11==7 or mod13==7:\n",
    "        pass\n",
    "    elif mod13==11 or mod11==10 or mod13 ==10:\n",
    "        pass\n",
    "    elif mod13==12:\n",
    "        pass\n",
    "    elif mod10 ==6 or mod10== 7:\n",
    "        pass  \n",
    "    elif mod5 != 0 and num > 49:\n",
    "        pass\n",
    "    else: \n",
    "        print(f\"mod5 = {mod5}, mod6 = {mod6}, mod7 = {mod7}, mod11 = {mod11}, mod13 = {mod13}, num = {num}\")\n",
    "    "
   ]
  },
  {
   "cell_type": "code",
   "execution_count": null,
   "id": "e83aca03",
   "metadata": {},
   "outputs": [],
   "source": []
  }
 ],
 "metadata": {
  "kernelspec": {
   "display_name": "Python [conda env:pythondata] *",
   "language": "python",
   "name": "conda-env-pythondata-py"
  },
  "language_info": {
   "codemirror_mode": {
    "name": "ipython",
    "version": 3
   },
   "file_extension": ".py",
   "mimetype": "text/x-python",
   "name": "python",
   "nbconvert_exporter": "python",
   "pygments_lexer": "ipython3",
   "version": "3.6.10"
  }
 },
 "nbformat": 4,
 "nbformat_minor": 5
}
