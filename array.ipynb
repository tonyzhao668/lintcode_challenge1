{
 "cells": [
  {
   "cell_type": "markdown",
   "id": "a6655d2a",
   "metadata": {},
   "source": [
    "## Generate Array at given size"
   ]
  },
  {
   "cell_type": "code",
   "execution_count": 1,
   "id": "ffc08cf1",
   "metadata": {},
   "outputs": [],
   "source": [
    "import numpy"
   ]
  },
  {
   "cell_type": "code",
   "execution_count": 2,
   "id": "bde6b346",
   "metadata": {},
   "outputs": [
    {
     "data": {
      "text/plain": [
       "array([[0., 0., 0., 0.],\n",
       "       [0., 0., 0., 0.],\n",
       "       [0., 0., 0., 0.]])"
      ]
     },
     "execution_count": 2,
     "metadata": {},
     "output_type": "execute_result"
    }
   ],
   "source": [
    "x = numpy.zeros((3,4))\n",
    "x"
   ]
  },
  {
   "cell_type": "code",
   "execution_count": 3,
   "id": "74ea1c54",
   "metadata": {},
   "outputs": [
    {
     "data": {
      "text/plain": [
       "array([0., 0., 0., 0., 0.])"
      ]
     },
     "execution_count": 3,
     "metadata": {},
     "output_type": "execute_result"
    }
   ],
   "source": [
    "y = numpy.zeros(5)   \n",
    "y"
   ]
  },
  {
   "cell_type": "code",
   "execution_count": 14,
   "id": "688b8ab4",
   "metadata": {},
   "outputs": [
    {
     "data": {
      "text/plain": [
       "array([-1038699840,         462,           0,           0,           1])"
      ]
     },
     "execution_count": 14,
     "metadata": {},
     "output_type": "execute_result"
    }
   ],
   "source": [
    "from numpy import ndarray\n",
    "a = ndarray((5,),int)\n",
    "a"
   ]
  },
  {
   "cell_type": "code",
   "execution_count": 17,
   "id": "2a72b69d",
   "metadata": {},
   "outputs": [
    {
     "name": "stdout",
     "output_type": "stream",
     "text": [
      "4\n",
      "[1, 2, 3, 4]\n",
      "[[1, 2, 3, 4], [1, 2, 3, 4], [1, 2, 3, 4], [1, 2, 3, 4]]\n"
     ]
    }
   ],
   "source": [
    "t = int(input(\"\"))\n",
    "xx = [5]*t\n",
    "yy = [[2]*t]*t\n",
    "\n",
    "for i in range(1, t+1):\n",
    "    xx[i-1] = i;\n",
    "\n",
    "    for j in range(1, t+1):\n",
    "        yy[i-1][j-1] = j;\n",
    "\n",
    "print(xx)\n",
    "print(yy)\n"
   ]
  },
  {
   "cell_type": "code",
   "execution_count": 18,
   "id": "4d8b9640",
   "metadata": {},
   "outputs": [
    {
     "data": {
      "text/plain": [
       "[[None, None], [None, None]]"
      ]
     },
     "execution_count": 18,
     "metadata": {},
     "output_type": "execute_result"
    }
   ],
   "source": [
    "d = [ [ None for y in range( 2 ) ] for x in range( 2 ) ]\n",
    "d"
   ]
  },
  {
   "cell_type": "code",
   "execution_count": 23,
   "id": "631ebcea",
   "metadata": {},
   "outputs": [
    {
     "data": {
      "text/plain": [
       "[[[None, None], [None, None]],\n",
       " [[None, None], [None, None]],\n",
       " [[None, None], [None, None]]]"
      ]
     },
     "execution_count": 23,
     "metadata": {},
     "output_type": "execute_result"
    }
   ],
   "source": [
    "d = [[ [ None ] * 2 ] * 2] * 3\n",
    "d"
   ]
  },
  {
   "cell_type": "code",
   "execution_count": 34,
   "id": "6e30cf3d",
   "metadata": {},
   "outputs": [
    {
     "data": {
      "text/plain": [
       "0"
      ]
     },
     "execution_count": 34,
     "metadata": {},
     "output_type": "execute_result"
    }
   ],
   "source": [
    "d[0][1][0]"
   ]
  },
  {
   "cell_type": "markdown",
   "id": "2da9fd19",
   "metadata": {},
   "source": [
    "## Swap elements in a list"
   ]
  },
  {
   "cell_type": "code",
   "execution_count": 35,
   "id": "ba980f87",
   "metadata": {},
   "outputs": [
    {
     "name": "stdout",
     "output_type": "stream",
     "text": [
      "[19, 65, 23, 90]\n"
     ]
    }
   ],
   "source": [
    "# Swap function note the pos1 is the list[0]\n",
    "def swapPositions(list, pos1, pos2):\n",
    "     \n",
    "    list[pos1], list[pos2] = list[pos2], list[pos1]\n",
    "    return list\n",
    " \n",
    "# Driver function\n",
    "List = [23, 65, 19, 90]\n",
    "pos1, pos2  = 1, 3\n",
    " \n",
    "print(swapPositions(List, pos1-1, pos2-1))"
   ]
  },
  {
   "cell_type": "markdown",
   "id": "2ca44a00",
   "metadata": {},
   "source": [
    "## sort a list"
   ]
  },
  {
   "cell_type": "code",
   "execution_count": 36,
   "id": "13a2c757",
   "metadata": {},
   "outputs": [
    {
     "name": "stdout",
     "output_type": "stream",
     "text": [
      "List in Ascending Order:  [1, 2, 3, 4, 5, 6, 7, 8, 9, 10]\n",
      "List in Descending Order:  [10, 9, 8, 7, 6, 5, 4, 3, 2, 1]\n"
     ]
    }
   ],
   "source": [
    "nums = [1, 5, 3, 4, 2, 10, 6, 8, 7, 9]\n",
    "nums.sort()\n",
    "print('List in Ascending Order: ', nums)\n",
    "\n",
    "nums.sort(reverse=True)\n",
    "print('List in Descending Order: ', nums)"
   ]
  },
  {
   "cell_type": "markdown",
   "id": "f5bb9f8c",
   "metadata": {},
   "source": [
    "## list reverse"
   ]
  },
  {
   "cell_type": "code",
   "execution_count": 40,
   "id": "e0bf854d",
   "metadata": {},
   "outputs": [
    {
     "data": {
      "text/plain": [
       "[9, 7, 8, 6, 10, 2, 4, 3, 5, 1]"
      ]
     },
     "execution_count": 40,
     "metadata": {},
     "output_type": "execute_result"
    }
   ],
   "source": [
    "numlist = [1, 5, 3, 4, 2, 10, 6, 8, 7, 9]\n",
    "numlist.reverse()\n",
    "numlist"
   ]
  },
  {
   "cell_type": "markdown",
   "id": "4d5d650b",
   "metadata": {},
   "source": [
    "## Rotate a list"
   ]
  },
  {
   "cell_type": "code",
   "execution_count": 41,
   "id": "155a025a",
   "metadata": {},
   "outputs": [],
   "source": [
    "test_list = [1, 4, 6, 7, 2]"
   ]
  },
  {
   "cell_type": "code",
   "execution_count": 44,
   "id": "168377a2",
   "metadata": {},
   "outputs": [
    {
     "data": {
      "text/plain": [
       "5"
      ]
     },
     "execution_count": 44,
     "metadata": {},
     "output_type": "execute_result"
    }
   ],
   "source": [
    "len(test_list)"
   ]
  },
  {
   "cell_type": "code",
   "execution_count": 46,
   "id": "d8a42dc7",
   "metadata": {},
   "outputs": [
    {
     "data": {
      "text/plain": [
       "2"
      ]
     },
     "execution_count": 46,
     "metadata": {},
     "output_type": "execute_result"
    }
   ],
   "source": [
    "test_list[(0 + 3) % len(test_list)]"
   ]
  },
  {
   "cell_type": "code",
   "execution_count": 47,
   "id": "c6bf9c9f",
   "metadata": {},
   "outputs": [
    {
     "data": {
      "text/plain": [
       "3"
      ]
     },
     "execution_count": 47,
     "metadata": {},
     "output_type": "execute_result"
    }
   ],
   "source": [
    "(0 + 3) % len(test_list)"
   ]
  },
  {
   "cell_type": "code",
   "execution_count": 43,
   "id": "129e75dc",
   "metadata": {},
   "outputs": [
    {
     "data": {
      "text/plain": [
       "[4, 6, 7, 2, 1]"
      ]
     },
     "execution_count": 43,
     "metadata": {},
     "output_type": "execute_result"
    }
   ],
   "source": [
    "# using list comprehension to left rotate by 3 steps\n",
    "test_list = [test_list[(i + 3) % len(test_list)]\n",
    "               for i, x in enumerate(test_list)]\n",
    "test_list"
   ]
  },
  {
   "cell_type": "code",
   "execution_count": 49,
   "id": "5ef3a8e0",
   "metadata": {},
   "outputs": [
    {
     "data": {
      "text/plain": [
       "[1, 4, 6, 7, 2]"
      ]
     },
     "execution_count": 49,
     "metadata": {},
     "output_type": "execute_result"
    }
   ],
   "source": [
    "# using list comprehension to right rotate by 3\n",
    "# back to Original\n",
    "test_list = [test_list[(i - 3) % len(test_list)]\n",
    "               for i, x in enumerate(test_list)]\n",
    "test_list"
   ]
  },
  {
   "cell_type": "markdown",
   "id": "f04b413c",
   "metadata": {},
   "source": [
    "## move 0 to the end of list"
   ]
  },
  {
   "cell_type": "code",
   "execution_count": 67,
   "id": "77b4b4b8",
   "metadata": {},
   "outputs": [
    {
     "data": {
      "text/plain": [
       "[1, 3, 12]"
      ]
     },
     "execution_count": 67,
     "metadata": {},
     "output_type": "execute_result"
    }
   ],
   "source": [
    "nums = [0, 1, 0, 3, 12]\n",
    "newnums = [x for x in nums if x != 0]\n",
    "zeros = len(nums) - len(newnums)\n",
    "newnums"
   ]
  },
  {
   "cell_type": "code",
   "execution_count": 69,
   "id": "eb80cb83",
   "metadata": {},
   "outputs": [
    {
     "name": "stdout",
     "output_type": "stream",
     "text": [
      "[1, 3, 12, 0, 0]\n"
     ]
    }
   ],
   "source": [
    "for i in range(zeros):\n",
    "    newnums.append(0)\n",
    "    \n",
    "print(newnums)"
   ]
  },
  {
   "cell_type": "markdown",
   "id": "f8057405",
   "metadata": {},
   "source": [
    "## python program to print prime factors"
   ]
  },
  {
   "cell_type": "code",
   "execution_count": 71,
   "id": "0b650a4d",
   "metadata": {},
   "outputs": [
    {
     "name": "stdout",
     "output_type": "stream",
     "text": [
      "Enter the number for calculating the prime factors :\n",
      "738\n",
      "2\n",
      "3\n",
      "3\n",
      "41.0\n"
     ]
    }
   ],
   "source": [
    "import math\n",
    "\n",
    "def primefactors(n):\n",
    "   #even number divisible\n",
    "   while n % 2 == 0:\n",
    "      print (2),\n",
    "      n = n / 2\n",
    "    \n",
    "   #n became odd\n",
    "   for i in range(3,int(math.sqrt(n))+1,2):\n",
    "     \n",
    "      while (n % i == 0):\n",
    "         print (i)\n",
    "         n = n / i\n",
    "    \n",
    "   if n > 2:\n",
    "      print (n)\n",
    " \n",
    "n = int(input(\"Enter the number for calculating the prime factors :\\n\"))\n",
    "primefactors(n)"
   ]
  },
  {
   "cell_type": "markdown",
   "id": "ed0f01cd",
   "metadata": {},
   "source": [
    "## Hail conjecture"
   ]
  },
  {
   "cell_type": "code",
   "execution_count": 74,
   "id": "d2de1b2a",
   "metadata": {},
   "outputs": [
    {
     "name": "stdout",
     "output_type": "stream",
     "text": [
      "Enter the number for calculating the Hail conjecture :\n",
      "999\n"
     ]
    }
   ],
   "source": [
    "n = int(input(\"Enter the number for calculating the Hail conjecture :\\n\"))"
   ]
  },
  {
   "cell_type": "code",
   "execution_count": 75,
   "id": "2b782358",
   "metadata": {},
   "outputs": [
    {
     "name": "stdout",
     "output_type": "stream",
     "text": [
      "sum = 49\n"
     ]
    }
   ],
   "source": [
    "sum = 0\n",
    "while n != 1:\n",
    "    if n % 2 == 0:\n",
    "        n = n / 2\n",
    "        sum += 1\n",
    "    else:\n",
    "        n = 3 * n + 1\n",
    "        sum += 1\n",
    "print(f\"sum = {sum}\")"
   ]
  },
  {
   "cell_type": "markdown",
   "id": "ddb6bfc2",
   "metadata": {},
   "source": [
    "## Find majority in a list"
   ]
  },
  {
   "cell_type": "code",
   "execution_count": 80,
   "id": "0de2d8f2",
   "metadata": {},
   "outputs": [],
   "source": [
    "def find_majority(k):\n",
    "    myMap = {}\n",
    "    maximum = ( '', 0 ) # (occurring element, occurrences)\n",
    "    print(type(maximum))\n",
    "    \n",
    "    for n in k:\n",
    "        if n in myMap: myMap[n] += 1\n",
    "        else: myMap[n] = 1\n",
    "\n",
    "        # Keep track of maximum on the go\n",
    "        if myMap[n] > maximum[1]: maximum = (n,myMap[n])\n",
    "\n",
    "    return maximum"
   ]
  },
  {
   "cell_type": "code",
   "execution_count": 81,
   "id": "671ec9b1",
   "metadata": {},
   "outputs": [
    {
     "name": "stdout",
     "output_type": "stream",
     "text": [
      "<class 'tuple'>\n"
     ]
    },
    {
     "data": {
      "text/plain": [
       "(3, 5)"
      ]
     },
     "execution_count": 81,
     "metadata": {},
     "output_type": "execute_result"
    }
   ],
   "source": [
    "find_majority([1,2,3,4,3,3,2,4,5,6,1,2,3,4,5,1,2,3,4,6,5])"
   ]
  },
  {
   "cell_type": "markdown",
   "id": "9cea38f4",
   "metadata": {},
   "source": [
    "## double factorition n!!"
   ]
  },
  {
   "cell_type": "code",
   "execution_count": 83,
   "id": "0f41d771",
   "metadata": {},
   "outputs": [],
   "source": [
    "def doublefactorial(n):\n",
    "     if n <= 0 :\n",
    "         return 1\n",
    "     else:\n",
    "         return n * doublefactorial(n-2)"
   ]
  },
  {
   "cell_type": "code",
   "execution_count": 84,
   "id": "0403ccd7",
   "metadata": {},
   "outputs": [
    {
     "data": {
      "text/plain": [
       "945"
      ]
     },
     "execution_count": 84,
     "metadata": {},
     "output_type": "execute_result"
    }
   ],
   "source": [
    "n = 9\n",
    "doublefactorial(n)"
   ]
  },
  {
   "cell_type": "markdown",
   "id": "73f0237c",
   "metadata": {},
   "source": [
    "## Implement Stack"
   ]
  },
  {
   "cell_type": "code",
   "execution_count": 85,
   "id": "fe90c64a",
   "metadata": {},
   "outputs": [
    {
     "name": "stdout",
     "output_type": "stream",
     "text": [
      "push: [1]\n",
      "push: [1, 2]\n",
      "push: [1, 2, 3]\n",
      "pop: [1, 2]\n",
      "peek: 2\n",
      "pop: [1]\n",
      "peek: 1\n"
     ]
    }
   ],
   "source": [
    "list=[]\n",
    "list.append(1) # append 1\n",
    "print(\"push:\",list)\n",
    "list.append(2) # append 2\n",
    "print(\"push:\",list)\n",
    "list.append(3) # append 3\n",
    "print(\"push:\",list)\n",
    "list.pop() # pop 3\n",
    "print(\"pop:\",list)\n",
    "print(\"peek:\",list[-1]) # get top most element\n",
    "list.pop() # pop 2\n",
    "print(\"pop:\",list)\n",
    "print(\"peek:\",list[-1]) # get top most element"
   ]
  },
  {
   "cell_type": "markdown",
   "id": "4570c1b0",
   "metadata": {},
   "source": [
    "## Queue – Linked List Implementation"
   ]
  },
  {
   "cell_type": "code",
   "execution_count": 86,
   "id": "785316be",
   "metadata": {},
   "outputs": [
    {
     "name": "stdout",
     "output_type": "stream",
     "text": [
      "Queue Front 40\n",
      "Queue Rear 50\n"
     ]
    }
   ],
   "source": [
    "# Python3 program to demonstrate linked list\n",
    "# based implementation of queue\n",
    "  \n",
    "# A linked list (LL) node\n",
    "# to store a queue entry\n",
    "class Node:\n",
    "      \n",
    "    def __init__(self, data):\n",
    "        self.data = data\n",
    "        self.next = None\n",
    "  \n",
    "# A class to represent a queue\n",
    "  \n",
    "# The queue, front stores the front node\n",
    "# of LL and rear stores the last node of LL\n",
    "class Queue:\n",
    "      \n",
    "    def __init__(self):\n",
    "        self.front = self.rear = None\n",
    "  \n",
    "    def isEmpty(self):\n",
    "        return self.front == None\n",
    "      \n",
    "    # Method to add an item to the queue\n",
    "    def EnQueue(self, item):\n",
    "        temp = Node(item)\n",
    "          \n",
    "        if self.rear == None:\n",
    "            self.front = self.rear = temp\n",
    "            return\n",
    "        self.rear.next = temp\n",
    "        self.rear = temp\n",
    "  \n",
    "    # Method to remove an item from queue\n",
    "    def DeQueue(self):\n",
    "          \n",
    "        if self.isEmpty():\n",
    "            return\n",
    "        temp = self.front\n",
    "        self.front = temp.next\n",
    "  \n",
    "        if(self.front == None):\n",
    "            self.rear = None\n",
    "  \n",
    "# Driver Code\n",
    "if __name__== '__main__':\n",
    "    q = Queue()\n",
    "    q.EnQueue(10)\n",
    "    q.EnQueue(20)\n",
    "    q.DeQueue()\n",
    "    q.DeQueue()\n",
    "    q.EnQueue(30)\n",
    "    q.EnQueue(40)\n",
    "    q.EnQueue(50) \n",
    "    q.DeQueue()   \n",
    "    print(\"Queue Front \" + str(q.front.data))\n",
    "    print(\"Queue Rear \" + str(q.rear.data))"
   ]
  },
  {
   "cell_type": "code",
   "execution_count": null,
   "id": "b954d988",
   "metadata": {},
   "outputs": [],
   "source": []
  }
 ],
 "metadata": {
  "kernelspec": {
   "display_name": "Python [conda env:pythondata] *",
   "language": "python",
   "name": "conda-env-pythondata-py"
  },
  "language_info": {
   "codemirror_mode": {
    "name": "ipython",
    "version": 3
   },
   "file_extension": ".py",
   "mimetype": "text/x-python",
   "name": "python",
   "nbconvert_exporter": "python",
   "pygments_lexer": "ipython3",
   "version": "3.6.10"
  }
 },
 "nbformat": 4,
 "nbformat_minor": 5
}
