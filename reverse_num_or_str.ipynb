{
 "cells": [
  {
   "cell_type": "markdown",
   "id": "f5096034",
   "metadata": {},
   "source": [
    "## Reverse any given number"
   ]
  },
  {
   "cell_type": "code",
   "execution_count": 1,
   "id": "e4cb25b9",
   "metadata": {},
   "outputs": [
    {
     "name": "stdout",
     "output_type": "stream",
     "text": [
      "Enter the number: 49876\n"
     ]
    }
   ],
   "source": [
    "num = int(input(\"Enter the number: \"))  "
   ]
  },
  {
   "cell_type": "code",
   "execution_count": 2,
   "id": "a6f9bf13",
   "metadata": {},
   "outputs": [
    {
     "name": "stdout",
     "output_type": "stream",
     "text": [
      "n Reverse of entered number is = 67894\n"
     ]
    }
   ],
   "source": [
    "revr_num = 0    # initial value is 0. It will hold the reversed number  \n",
    "def recur_reverse(num):  \n",
    "    global revr_num   # We can use it out of the function  \n",
    "    if (num > 0):  \n",
    "        Reminder = num % 10  \n",
    "        revr_num = (revr_num * 10) + Reminder  \n",
    "        recur_reverse(num // 10)  \n",
    "    return revr_num  \n",
    "   \n",
    "revr_num = recur_reverse(num)  \n",
    "print(f\"n Reverse of entered number is = {revr_num}\")  "
   ]
  },
  {
   "cell_type": "markdown",
   "id": "a25a5a6f",
   "metadata": {},
   "source": [
    "## Reverse any given string"
   ]
  },
  {
   "cell_type": "code",
   "execution_count": 4,
   "id": "ac8be6b2",
   "metadata": {},
   "outputs": [
    {
     "name": "stdout",
     "output_type": "stream",
     "text": [
      "sdrawkcab ekil skool txet siht woh rednow I\n",
      "I wonder how this text looks like backwards\n"
     ]
    }
   ],
   "source": [
    "def my_function(x):\n",
    "  return x[::-1]\n",
    "\n",
    "mytxt = my_function(\"I wonder how this text looks like backwards\")\n",
    "\n",
    "print(mytxt)\n",
    "again = my_function(mytxt)\n",
    "print(again)"
   ]
  },
  {
   "cell_type": "markdown",
   "id": "90feb901",
   "metadata": {},
   "source": [
    "### Reverse number as a string"
   ]
  },
  {
   "cell_type": "code",
   "execution_count": 5,
   "id": "abf81f50",
   "metadata": {},
   "outputs": [
    {
     "name": "stdout",
     "output_type": "stream",
     "text": [
      "49876\n"
     ]
    }
   ],
   "source": [
    "revnum = my_function(str(revr_num))\n",
    "print(revnum)"
   ]
  },
  {
   "cell_type": "markdown",
   "id": "4ea24e1a",
   "metadata": {},
   "source": [
    "## Leap Year, diviable by 4 but not 100 or 400"
   ]
  },
  {
   "cell_type": "code",
   "execution_count": 6,
   "id": "1261e052",
   "metadata": {},
   "outputs": [
    {
     "name": "stdout",
     "output_type": "stream",
     "text": [
      "2024 is leap year\n"
     ]
    }
   ],
   "source": [
    "year = 2024\n",
    "mod4 = year % 4\n",
    "mod100 = year % 100\n",
    "if mod4 == 0 and mod100 != 0:\n",
    "    print(f\"{year} is leap year\")\n",
    "else: \n",
    "    print(f\"{year} is not leap year\")"
   ]
  },
  {
   "cell_type": "markdown",
   "id": "37e70326",
   "metadata": {},
   "source": [
    "## Weekday calculate"
   ]
  },
  {
   "cell_type": "code",
   "execution_count": 2,
   "id": "6db3d63b",
   "metadata": {},
   "outputs": [
    {
     "name": "stdout",
     "output_type": "stream",
     "text": [
      "0 Monday\n"
     ]
    }
   ],
   "source": [
    "import pandas as pd\n",
    "\n",
    "temp = pd.Timestamp('2020-11-23')\n",
    "print(temp.dayofweek, temp.day_name())"
   ]
  },
  {
   "cell_type": "code",
   "execution_count": 4,
   "id": "0c67beae",
   "metadata": {},
   "outputs": [
    {
     "name": "stdout",
     "output_type": "stream",
     "text": [
      "Wednesday\n",
      "2\n",
      "3\n"
     ]
    }
   ],
   "source": [
    "import datetime\n",
    "dt = '21/03/2012'\n",
    "day, month, year = (int(x) for x in dt.split('/'))    \n",
    "ans = datetime.date(year, month, day)\n",
    "print (ans.strftime(\"%A\"))\n",
    "print(ans.weekday())  # Monday is 0 when use weekday()\n",
    "print(ans.isoweekday()) # Monday is 1"
   ]
  },
  {
   "cell_type": "markdown",
   "id": "e19b1c6d",
   "metadata": {},
   "source": [
    "## Calculate days between two dates"
   ]
  },
  {
   "cell_type": "code",
   "execution_count": 17,
   "id": "3a47b550",
   "metadata": {},
   "outputs": [
    {
     "name": "stdout",
     "output_type": "stream",
     "text": [
      "344\n"
     ]
    }
   ],
   "source": [
    "from datetime import date\n",
    "\n",
    "f_date = date(2015, 8, 2)\n",
    "l_date = date(2016, 7, 11)\n",
    "delta = l_date - f_date\n",
    "print(delta.days)"
   ]
  },
  {
   "cell_type": "markdown",
   "id": "82a3163d",
   "metadata": {},
   "source": [
    "### Calculate the date from today plus X"
   ]
  },
  {
   "cell_type": "code",
   "execution_count": 10,
   "id": "87278b75",
   "metadata": {},
   "outputs": [
    {
     "name": "stdout",
     "output_type": "stream",
     "text": [
      "2022-01-27\n"
     ]
    }
   ],
   "source": [
    "from datetime import date\n",
    "from dateutil.relativedelta import relativedelta\n",
    "\n",
    "six_months = date.today() + relativedelta(months=+6)\n",
    "print(six_months)"
   ]
  },
  {
   "cell_type": "code",
   "execution_count": 11,
   "id": "c58d9b8b",
   "metadata": {},
   "outputs": [
    {
     "name": "stdout",
     "output_type": "stream",
     "text": [
      "2021-11-04\n"
     ]
    }
   ],
   "source": [
    "daysplus100 = date.today() + relativedelta(days=+100)\n",
    "print(daysplus100)"
   ]
  },
  {
   "cell_type": "code",
   "execution_count": 14,
   "id": "52dbad26",
   "metadata": {},
   "outputs": [
    {
     "name": "stdout",
     "output_type": "stream",
     "text": [
      "2016-10-19\n"
     ]
    }
   ],
   "source": [
    "daysplus100 = date(2016,7,11) + relativedelta(days=+100)\n",
    "print(daysplus100)"
   ]
  },
  {
   "cell_type": "code",
   "execution_count": null,
   "id": "94b54ea9",
   "metadata": {},
   "outputs": [],
   "source": []
  }
 ],
 "metadata": {
  "kernelspec": {
   "display_name": "Python [conda env:pythondata] *",
   "language": "python",
   "name": "conda-env-pythondata-py"
  },
  "language_info": {
   "codemirror_mode": {
    "name": "ipython",
    "version": 3
   },
   "file_extension": ".py",
   "mimetype": "text/x-python",
   "name": "python",
   "nbconvert_exporter": "python",
   "pygments_lexer": "ipython3",
   "version": "3.6.10"
  }
 },
 "nbformat": 4,
 "nbformat_minor": 5
}
