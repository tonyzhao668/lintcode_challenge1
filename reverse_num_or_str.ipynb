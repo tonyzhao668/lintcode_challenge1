{
 "cells": [
  {
   "cell_type": "markdown",
   "id": "f5096034",
   "metadata": {},
   "source": [
    "## Reverse any given number"
   ]
  },
  {
   "cell_type": "code",
   "execution_count": 1,
   "id": "e4cb25b9",
   "metadata": {},
   "outputs": [
    {
     "name": "stdout",
     "output_type": "stream",
     "text": [
      "Enter the number: 49876\n"
     ]
    }
   ],
   "source": [
    "num = int(input(\"Enter the number: \"))  "
   ]
  },
  {
   "cell_type": "code",
   "execution_count": 2,
   "id": "a6f9bf13",
   "metadata": {},
   "outputs": [
    {
     "name": "stdout",
     "output_type": "stream",
     "text": [
      "n Reverse of entered number is = 67894\n"
     ]
    }
   ],
   "source": [
    "revr_num = 0    # initial value is 0. It will hold the reversed number  \n",
    "def recur_reverse(num):  \n",
    "    global revr_num   # We can use it out of the function  \n",
    "    if (num > 0):  \n",
    "        Reminder = num % 10  \n",
    "        revr_num = (revr_num * 10) + Reminder  \n",
    "        recur_reverse(num // 10)  \n",
    "    return revr_num  \n",
    "   \n",
    "revr_num = recur_reverse(num)  \n",
    "print(f\"n Reverse of entered number is = {revr_num}\")  "
   ]
  },
  {
   "cell_type": "markdown",
   "id": "a25a5a6f",
   "metadata": {},
   "source": [
    "## Reverse any given string"
   ]
  },
  {
   "cell_type": "code",
   "execution_count": 4,
   "id": "ac8be6b2",
   "metadata": {},
   "outputs": [
    {
     "name": "stdout",
     "output_type": "stream",
     "text": [
      "sdrawkcab ekil skool txet siht woh rednow I\n",
      "I wonder how this text looks like backwards\n"
     ]
    }
   ],
   "source": [
    "def my_function(x):\n",
    "  return x[::-1]\n",
    "\n",
    "mytxt = my_function(\"I wonder how this text looks like backwards\")\n",
    "\n",
    "print(mytxt)\n",
    "again = my_function(mytxt)\n",
    "print(again)"
   ]
  },
  {
   "cell_type": "markdown",
   "id": "90feb901",
   "metadata": {},
   "source": [
    "### Reverse number as a string"
   ]
  },
  {
   "cell_type": "code",
   "execution_count": 5,
   "id": "abf81f50",
   "metadata": {},
   "outputs": [
    {
     "name": "stdout",
     "output_type": "stream",
     "text": [
      "49876\n"
     ]
    }
   ],
   "source": [
    "revnum = my_function(str(revr_num))\n",
    "print(revnum)"
   ]
  },
  {
   "cell_type": "markdown",
   "id": "154e6587",
   "metadata": {},
   "source": [
    "### reverse words in a sentence: "
   ]
  },
  {
   "cell_type": "code",
   "execution_count": 6,
   "id": "ce43bf0d",
   "metadata": {},
   "outputs": [
    {
     "name": "stdout",
     "output_type": "stream",
     "text": [
      "list separated word the Reverse\n"
     ]
    }
   ],
   "source": [
    "def rev_sentence(sentence): \n",
    "  \n",
    "    # first split the string into words \n",
    "    words = sentence.split(' ') \n",
    "  \n",
    "    # then reverse the split string list and join using space \n",
    "    reverse_sentence = ' '.join(reversed(words)) \n",
    "  \n",
    "    # finally return the joined string \n",
    "    return reverse_sentence \n",
    "  \n",
    "if __name__ == \"__main__\": \n",
    "    input = 'Reverse the word separated list'\n",
    "    print (rev_sentence(input))"
   ]
  },
  {
   "cell_type": "markdown",
   "id": "4ea24e1a",
   "metadata": {},
   "source": [
    "## Leap Year, diviable by 4 but not 100 or 400"
   ]
  },
  {
   "cell_type": "code",
   "execution_count": 6,
   "id": "1261e052",
   "metadata": {},
   "outputs": [
    {
     "name": "stdout",
     "output_type": "stream",
     "text": [
      "2024 is leap year\n"
     ]
    }
   ],
   "source": [
    "year = 2024\n",
    "mod4 = year % 4\n",
    "mod100 = year % 100\n",
    "if mod4 == 0 and mod100 != 0:\n",
    "    print(f\"{year} is leap year\")\n",
    "else: \n",
    "    print(f\"{year} is not leap year\")"
   ]
  },
  {
   "cell_type": "markdown",
   "id": "5677b3f6",
   "metadata": {},
   "source": [
    "## Days of a given month"
   ]
  },
  {
   "cell_type": "code",
   "execution_count": 5,
   "id": "e3ec73b2",
   "metadata": {},
   "outputs": [
    {
     "name": "stdout",
     "output_type": "stream",
     "text": [
      "28\n"
     ]
    }
   ],
   "source": [
    "from calendar import monthrange\n",
    "num_days = monthrange(2019, 2)[1] # num_days = 28 note [0]is the weekday of the first day in the month\n",
    "print(num_days) # Prints 28"
   ]
  },
  {
   "cell_type": "markdown",
   "id": "c30d9be2",
   "metadata": {},
   "source": [
    "## Weekday calculate"
   ]
  },
  {
   "cell_type": "code",
   "execution_count": 2,
   "id": "6db3d63b",
   "metadata": {},
   "outputs": [
    {
     "name": "stdout",
     "output_type": "stream",
     "text": [
      "0 Monday\n"
     ]
    }
   ],
   "source": [
    "import pandas as pd\n",
    "\n",
    "temp = pd.Timestamp('2020-11-23')\n",
    "print(temp.dayofweek, temp.day_name())"
   ]
  },
  {
   "cell_type": "code",
   "execution_count": 4,
   "id": "aa13525a",
   "metadata": {},
   "outputs": [
    {
     "name": "stdout",
     "output_type": "stream",
     "text": [
      "Wednesday\n",
      "2\n",
      "3\n"
     ]
    }
   ],
   "source": [
    "import datetime\n",
    "dt = '21/03/2012'\n",
    "day, month, year = (int(x) for x in dt.split('/'))    \n",
    "ans = datetime.date(year, month, day)\n",
    "print (ans.strftime(\"%A\"))\n",
    "print(ans.weekday())  # Monday is 0 when use weekday()\n",
    "print(ans.isoweekday()) # Monday is 1"
   ]
  },
  {
   "cell_type": "markdown",
   "id": "99520529",
   "metadata": {},
   "source": [
    "## Calculate days between two dates"
   ]
  },
  {
   "cell_type": "code",
   "execution_count": 17,
   "id": "11ba5b3e",
   "metadata": {},
   "outputs": [
    {
     "name": "stdout",
     "output_type": "stream",
     "text": [
      "344\n"
     ]
    }
   ],
   "source": [
    "from datetime import date\n",
    "\n",
    "f_date = date(2015, 8, 2)\n",
    "l_date = date(2016, 7, 11)\n",
    "delta = l_date - f_date\n",
    "print(delta.days)"
   ]
  },
  {
   "cell_type": "markdown",
   "id": "f59bb137",
   "metadata": {},
   "source": [
    "### Calculate the date from today plus X"
   ]
  },
  {
   "cell_type": "code",
   "execution_count": 10,
   "id": "edaf4f70",
   "metadata": {},
   "outputs": [
    {
     "name": "stdout",
     "output_type": "stream",
     "text": [
      "2022-01-27\n"
     ]
    }
   ],
   "source": [
    "from datetime import date\n",
    "from dateutil.relativedelta import relativedelta\n",
    "\n",
    "six_months = date.today() + relativedelta(months=+6)\n",
    "print(six_months)"
   ]
  },
  {
   "cell_type": "code",
   "execution_count": 11,
   "id": "f7a21200",
   "metadata": {},
   "outputs": [
    {
     "name": "stdout",
     "output_type": "stream",
     "text": [
      "2021-11-04\n"
     ]
    }
   ],
   "source": [
    "daysplus100 = date.today() + relativedelta(days=+100)\n",
    "print(daysplus100)"
   ]
  },
  {
   "cell_type": "code",
   "execution_count": 14,
   "id": "a65b8a00",
   "metadata": {},
   "outputs": [
    {
     "name": "stdout",
     "output_type": "stream",
     "text": [
      "2016-10-19\n"
     ]
    }
   ],
   "source": [
    "daysplus100 = date(2016,7,11) + relativedelta(days=+100)\n",
    "print(daysplus100)"
   ]
  },
  {
   "cell_type": "code",
   "execution_count": 18,
   "id": "bef25102",
   "metadata": {},
   "outputs": [
    {
     "name": "stdout",
     "output_type": "stream",
     "text": [
      "2017-01-27\n"
     ]
    }
   ],
   "source": [
    "daysplus100 += relativedelta(days=+100)\n",
    "print(daysplus100)"
   ]
  },
  {
   "cell_type": "code",
   "execution_count": 19,
   "id": "7ea089ef",
   "metadata": {},
   "outputs": [
    {
     "name": "stdout",
     "output_type": "stream",
     "text": [
      "2016-07-11\n"
     ]
    }
   ],
   "source": [
    "print(date(2016,7,11))"
   ]
  },
  {
   "cell_type": "markdown",
   "id": "61f19dc9",
   "metadata": {},
   "source": [
    "## Factorial of a number using recursion"
   ]
  },
  {
   "cell_type": "code",
   "execution_count": 5,
   "id": "b7d056c9",
   "metadata": {},
   "outputs": [
    {
     "name": "stdout",
     "output_type": "stream",
     "text": [
      "The factorial of 10 is 3628800\n"
     ]
    }
   ],
   "source": [
    "def recur_factorial(n):\n",
    "   if n == 1 or n == 0:\n",
    "       return 1\n",
    "   else:\n",
    "       return n*recur_factorial(n-1)\n",
    "\n",
    "num = 10\n",
    "\n",
    "# check if the number is negative\n",
    "if num < 0:\n",
    "   print(\"Sorry, factorial does not exist for negative numbers\")\n",
    "# elif num == 0:\n",
    "#    print(\"The factorial of 0 is 1\")\n",
    "else:\n",
    "   print(\"The factorial of\", num, \"is\", recur_factorial(num))"
   ]
  },
  {
   "cell_type": "markdown",
   "id": "0b313744",
   "metadata": {},
   "source": [
    "## Lower or Upper a string"
   ]
  },
  {
   "cell_type": "code",
   "execution_count": 7,
   "id": "879ae20e",
   "metadata": {},
   "outputs": [
    {
     "data": {
      "text/plain": [
       "'abc'"
      ]
     },
     "execution_count": 7,
     "metadata": {},
     "output_type": "execute_result"
    }
   ],
   "source": [
    "str = \"ABC\"\n",
    "str.lower()"
   ]
  },
  {
   "cell_type": "code",
   "execution_count": 8,
   "id": "e666b001",
   "metadata": {},
   "outputs": [
    {
     "data": {
      "text/plain": [
       "'ABC'"
      ]
     },
     "execution_count": 8,
     "metadata": {},
     "output_type": "execute_result"
    }
   ],
   "source": [
    "str.upper()"
   ]
  },
  {
   "cell_type": "markdown",
   "id": "14d6045a",
   "metadata": {},
   "source": [
    "## find a letter index in a string"
   ]
  },
  {
   "cell_type": "code",
   "execution_count": 13,
   "id": "9f274064",
   "metadata": {},
   "outputs": [
    {
     "data": {
      "text/plain": [
       "-1"
      ]
     },
     "execution_count": 13,
     "metadata": {},
     "output_type": "execute_result"
    }
   ],
   "source": [
    "myString = 'Position of a character'\n",
    "myString.find('x') #when not find return -1"
   ]
  },
  {
   "cell_type": "code",
   "execution_count": 12,
   "id": "02cb4c89",
   "metadata": {},
   "outputs": [
    {
     "data": {
      "text/plain": [
       "2"
      ]
     },
     "execution_count": 12,
     "metadata": {},
     "output_type": "execute_result"
    }
   ],
   "source": [
    "myString.index('s')"
   ]
  },
  {
   "cell_type": "markdown",
   "id": "990681c4",
   "metadata": {},
   "source": [
    "## Capitalize each word in a string"
   ]
  },
  {
   "cell_type": "code",
   "execution_count": 14,
   "id": "576cbf55",
   "metadata": {},
   "outputs": [
    {
     "data": {
      "text/plain": [
       "\"They'Re Bill'S Friends From The Uk\""
      ]
     },
     "execution_count": 14,
     "metadata": {},
     "output_type": "execute_result"
    }
   ],
   "source": [
    "\"they're bill's friends from the UK\".title()"
   ]
  },
  {
   "cell_type": "markdown",
   "id": "c0591ad8",
   "metadata": {},
   "source": [
    "## find the longest word in a list"
   ]
  },
  {
   "cell_type": "code",
   "execution_count": 15,
   "id": "46878ff4",
   "metadata": {},
   "outputs": [
    {
     "name": "stdout",
     "output_type": "stream",
     "text": [
      "the_longest_string\n"
     ]
    }
   ],
   "source": [
    "a_list = [\"a_string\", \"the_longest_string\", \"string\"]\n",
    "longest_string = max(a_list, key=len)\n",
    "print(longest_string)"
   ]
  },
  {
   "cell_type": "markdown",
   "id": "da7b990e",
   "metadata": {},
   "source": [
    "## find the biggest letter"
   ]
  },
  {
   "cell_type": "code",
   "execution_count": 22,
   "id": "4f05b5a6",
   "metadata": {},
   "outputs": [
    {
     "name": "stdout",
     "output_type": "stream",
     "text": [
      "r : 114\n",
      "a : 97\n",
      "j : 106\n",
      "R : 82\n",
      "A : 65\n",
      "J : 74\n"
     ]
    }
   ],
   "source": [
    "for letter in \"rajRAJ\":\n",
    "    print(f'{letter} : {ord(letter)}')"
   ]
  },
  {
   "cell_type": "code",
   "execution_count": 25,
   "id": "c70cba14",
   "metadata": {},
   "outputs": [
    {
     "name": "stdout",
     "output_type": "stream",
     "text": [
      "R\n"
     ]
    }
   ],
   "source": [
    "string = \"rajBBCR\" \n",
    "bl = max(string)\n",
    "if string.find(bl.lower()) != -1 and string.find(bl.upper()) != -1:\n",
    "    print(bl.upper())\n",
    "else:\n",
    "    print(\"NO\")"
   ]
  },
  {
   "cell_type": "markdown",
   "id": "e1ce81ff",
   "metadata": {},
   "source": [
    "## rotate a string by offset d"
   ]
  },
  {
   "cell_type": "code",
   "execution_count": 42,
   "id": "fae4805c",
   "metadata": {},
   "outputs": [
    {
     "name": "stdout",
     "output_type": "stream",
     "text": [
      "Ge\n",
      "eksforGeeks\n",
      "GeeksforGee\n",
      "ks\n",
      "Left Rotation :  eksforGeeksGe\n",
      "Right Rotation :  ksGeeksforGee\n"
     ]
    }
   ],
   "source": [
    "# Function to rotate string left and right by d length \n",
    "  \n",
    "def rotate(input,d): \n",
    "  \n",
    "    # slice string in two parts for left and right \n",
    "    Lfirst = input[0 : d] \n",
    "    print(Lfirst)\n",
    "    Lsecond = input[d :] \n",
    "    print(Lsecond)\n",
    "    Rfirst = input[0 : len(input)-d] \n",
    "    print(Rfirst)\n",
    "    Rsecond = input[len(input)-d : ] \n",
    "    print(Rsecond)\n",
    "  \n",
    "    # now concatenate two parts together \n",
    "    print (\"Left Rotation : \", (Lsecond + Lfirst) )\n",
    "    print (\"Right Rotation : \", (Rsecond + Rfirst)) \n",
    "    \n",
    "# Driver program \n",
    "if __name__ == \"__main__\": \n",
    "    input = 'GeeksforGeeks'\n",
    "    d=2\n",
    "    rotate(input,d) "
   ]
  },
  {
   "cell_type": "code",
   "execution_count": null,
   "id": "a584be8e",
   "metadata": {},
   "outputs": [],
   "source": []
  }
 ],
 "metadata": {
  "kernelspec": {
   "display_name": "Python [conda env:pythondata] *",
   "language": "python",
   "name": "conda-env-pythondata-py"
  },
  "language_info": {
   "codemirror_mode": {
    "name": "ipython",
    "version": 3
   },
   "file_extension": ".py",
   "mimetype": "text/x-python",
   "name": "python",
   "nbconvert_exporter": "python",
   "pygments_lexer": "ipython3",
   "version": "3.6.10"
  }
 },
 "nbformat": 4,
 "nbformat_minor": 5
}
