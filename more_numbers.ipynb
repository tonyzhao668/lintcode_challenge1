{
 "cells": [
  {
   "cell_type": "markdown",
   "id": "13c87896",
   "metadata": {},
   "source": [
    "## Fibonacci Generator"
   ]
  },
  {
   "cell_type": "code",
   "execution_count": 1,
   "id": "11f51402",
   "metadata": {},
   "outputs": [
    {
     "name": "stdout",
     "output_type": "stream",
     "text": [
      "Give amount: 20\n"
     ]
    }
   ],
   "source": [
    "a = int(input('Give amount: '))"
   ]
  },
  {
   "cell_type": "code",
   "execution_count": 2,
   "id": "1ede7d96",
   "metadata": {},
   "outputs": [
    {
     "name": "stdout",
     "output_type": "stream",
     "text": [
      "[0, 1, 1, 2, 3, 5, 8, 13, 21, 34, 55, 89, 144, 233, 377, 610, 987, 1597, 2584, 4181]\n"
     ]
    }
   ],
   "source": [
    "def fib(n):\n",
    "    a, b = 0, 1\n",
    "    for _ in range(n):\n",
    "        yield a\n",
    "        a, b = b, a + b\n",
    "\n",
    "print(list(fib(a)))"
   ]
  },
  {
   "cell_type": "markdown",
   "id": "60e6976d",
   "metadata": {},
   "source": [
    "## Cutting Metal Surplus.py"
   ]
  },
  {
   "cell_type": "code",
   "execution_count": null,
   "id": "affe2ddd",
   "metadata": {},
   "outputs": [],
   "source": [
    "# Description\n",
    "# The owner of a metal rod factory has n extra metal rods. A local contractor offers to buy any of \n",
    "# the factory's surplus as long as all the rods have the same exact length in integers (referred to as saleLength). \n",
    "# The factory owner can increase the number of sellable rods by cutting each rod zero or times, \n",
    "# but each cut comes in with a cost denoted by costPerCut (cost per cut is expressed as costpercut). \n",
    "# After all cuts have been made, any leftover rods having a length other than saleLength must be discarded for no profit. \n",
    "# The factory owner's total profit for the sale is calculated as:\n",
    "\n",
    "# totalProfit = totalUniformRods * saleLength * salePrice - totalCuts * costPerCut\n",
    "\n",
    "# where totalUniformRods is the number of sellable rods, salePrice is the per unit length price \n",
    "# that the contractor agrees to pay, and totalCuts is the total number of times the rods needed to be cut."
   ]
  },
  {
   "cell_type": "code",
   "execution_count": 3,
   "id": "8de61c5e",
   "metadata": {},
   "outputs": [],
   "source": [
    "def max_profit(cutting_cost,sale_price,rods,cutting_size):\n",
    "    profit = 0\n",
    "    total_rods = len(rods)\n",
    "    for i in range(total_rods):\n",
    "        if rods[i]%cutting_size == 0:\n",
    "            profit+=(sale_price * rods[i]-(rods[i] // cutting_size-1) * cutting_cost)\n",
    "\n",
    "        else:\n",
    "            profit+=(sale_price * (rods[i] - rods[i] % cutting_size) - (rods[i] // cutting_size)* cutting_cost)\n",
    "\n",
    "\n",
    "    return profit"
   ]
  },
  {
   "cell_type": "code",
   "execution_count": 6,
   "id": "7f2a534e",
   "metadata": {},
   "outputs": [
    {
     "name": "stdout",
     "output_type": "stream",
     "text": [
      "Cutting Cost: 1\n",
      "Sale Price : 10\n",
      "Number of Rods : 3\n",
      "30\n",
      "59\n",
      "110\n",
      "1913 5\n"
     ]
    }
   ],
   "source": [
    "# Data used : cutting_cost = 1, sale_price = 10, rods = [30, 59, 110], result= max profit =1913, sale_size = 5\n",
    "cutting_cost = int(input(\"Cutting Cost: \"))\n",
    "sale_price = int(input(\"Sale Price : \"))\n",
    "rod_number = int(input(\"Number of Rods : \"))\n",
    "rods=[]\n",
    "for i in range(rod_number):\n",
    "    rod = int(input())\n",
    "    rods.insert(i,rod)\n",
    "\n",
    "max_size_road = max(rods)\n",
    "maximum_profit=0\n",
    "for cutting_size in range(1,max_size_road):\n",
    "    profit = max_profit(cutting_cost,sale_price,rods,cutting_size)\n",
    "    \n",
    "    if profit > maximum_profit:\n",
    "        maximum_profit=profit\n",
    "        mcutsize = cutting_size \n",
    "\n",
    "print(maximum_profit, mcutsize)"
   ]
  },
  {
   "cell_type": "code",
   "execution_count": null,
   "id": "165a60ec",
   "metadata": {},
   "outputs": [],
   "source": []
  }
 ],
 "metadata": {
  "kernelspec": {
   "display_name": "Python [conda env:pythondata] *",
   "language": "python",
   "name": "conda-env-pythondata-py"
  },
  "language_info": {
   "codemirror_mode": {
    "name": "ipython",
    "version": 3
   },
   "file_extension": ".py",
   "mimetype": "text/x-python",
   "name": "python",
   "nbconvert_exporter": "python",
   "pygments_lexer": "ipython3",
   "version": "3.6.10"
  }
 },
 "nbformat": 4,
 "nbformat_minor": 5
}
