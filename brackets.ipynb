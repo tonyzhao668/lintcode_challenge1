{
 "cells": [
  {
   "cell_type": "code",
   "execution_count": 138,
   "metadata": {},
   "outputs": [],
   "source": [
    "from numpy import random\n",
    "from random import shuffle\n",
    "import numpy as np\n",
    "import pandas as pd\n",
    "import string"
   ]
  },
  {
   "cell_type": "markdown",
   "metadata": {},
   "source": [
    "## Build a random string with brackets"
   ]
  },
  {
   "cell_type": "code",
   "execution_count": 139,
   "metadata": {},
   "outputs": [
    {
     "data": {
      "text/plain": [
       "'abcdefghijklmnopqrstuvwxyzABCDEFGHIJKLMNOPQRSTUVWXYZ'"
      ]
     },
     "execution_count": 139,
     "metadata": {},
     "output_type": "execute_result"
    }
   ],
   "source": [
    "string.ascii_letters\n",
    "# 'abcdefghijklmnopqrstuvwxyzABCDEFGHIJKLMNOPQRSTUVWXYZ'"
   ]
  },
  {
   "cell_type": "code",
   "execution_count": 140,
   "metadata": {},
   "outputs": [
    {
     "data": {
      "text/plain": [
       "'0123456789'"
      ]
     },
     "execution_count": 140,
     "metadata": {},
     "output_type": "execute_result"
    }
   ],
   "source": [
    "string.digits"
   ]
  },
  {
   "cell_type": "code",
   "execution_count": 141,
   "metadata": {},
   "outputs": [
    {
     "data": {
      "text/plain": [
       "'!\"#$%&\\'()*+,-./:;<=>?@[\\\\]^_`{|}~'"
      ]
     },
     "execution_count": 141,
     "metadata": {},
     "output_type": "execute_result"
    }
   ],
   "source": [
    "string.punctuation"
   ]
  },
  {
   "cell_type": "code",
   "execution_count": 142,
   "metadata": {},
   "outputs": [],
   "source": [
    "brk = '()'"
   ]
  },
  {
   "cell_type": "code",
   "execution_count": 143,
   "metadata": {},
   "outputs": [
    {
     "data": {
      "text/plain": [
       "')'"
      ]
     },
     "execution_count": 143,
     "metadata": {},
     "output_type": "execute_result"
    }
   ],
   "source": [
    "random.choice(list(brk))"
   ]
  },
  {
   "cell_type": "code",
   "execution_count": 144,
   "metadata": {},
   "outputs": [],
   "source": [
    "def random_char(y):\n",
    "    return ''.join(random.choice(list(string.ascii_letters)) for x in range(y))\n",
    "#     return ''.join(random.sample(string.ascii_lowercase, y))"
   ]
  },
  {
   "cell_type": "code",
   "execution_count": 145,
   "metadata": {},
   "outputs": [
    {
     "data": {
      "text/plain": [
       "'UQkVe'"
      ]
     },
     "execution_count": 145,
     "metadata": {},
     "output_type": "execute_result"
    }
   ],
   "source": [
    "random_char(5)"
   ]
  },
  {
   "cell_type": "code",
   "execution_count": 146,
   "metadata": {},
   "outputs": [
    {
     "data": {
      "text/plain": [
       "['7', 'a', 's', 'G', ')', 'n', '(', ')', 'm', '9']"
      ]
     },
     "execution_count": 146,
     "metadata": {},
     "output_type": "execute_result"
    }
   ],
   "source": [
    "charlist = []\n",
    "\n",
    "randchar = \"\"\n",
    "for i in range(10):\n",
    "    ichar = []\n",
    "    l = random.choice(list(string.ascii_letters))\n",
    "    ichar.append(l)\n",
    "    b = random.choice(list(brk))\n",
    "    ichar.append(b)\n",
    "    d = random.choice(list(string.digits))\n",
    "    ichar.append(d)\n",
    "    charlist.append(random.choice(ichar))\n",
    "                    \n",
    "charlist "
   ]
  },
  {
   "cell_type": "code",
   "execution_count": 147,
   "metadata": {},
   "outputs": [
    {
     "data": {
      "text/plain": [
       "[0, 1, 2, 3, 4, 5, 6, 7, 8, 9]"
      ]
     },
     "execution_count": 147,
     "metadata": {},
     "output_type": "execute_result"
    }
   ],
   "source": [
    "list(range(len(charlist)))"
   ]
  },
  {
   "cell_type": "markdown",
   "metadata": {},
   "source": [
    "## Convert a list of characters into a string in two ways"
   ]
  },
  {
   "cell_type": "code",
   "execution_count": 148,
   "metadata": {},
   "outputs": [],
   "source": [
    "# def convert(s):  \n",
    "#     # initialization of string to \"\"\n",
    "#     new = \"\"  \n",
    "#     # traverse in the string \n",
    "#     for x in s:\n",
    "#         new += x   \n",
    "#     # return string \n",
    "#     return new \n",
    "\n",
    "# # driver code   \n",
    "# str2 = convert(charlist)\n",
    "# print(str)"
   ]
  },
  {
   "cell_type": "code",
   "execution_count": 149,
   "metadata": {},
   "outputs": [
    {
     "name": "stdout",
     "output_type": "stream",
     "text": [
      "7asG)n()m9\n"
     ]
    }
   ],
   "source": [
    "def convertjoin(s):  \n",
    "    # initialization of string to \"\"\n",
    "    str1 = \"\"  \n",
    "    # using join function join the list s by \n",
    "    # separating words by str1\n",
    "    return(str1.join(s))\n",
    "      \n",
    "# driver code \n",
    "str = convertjoin(charlist)\n",
    "print(str)"
   ]
  },
  {
   "cell_type": "markdown",
   "metadata": {},
   "source": [
    "## Find out the wrong brackets and remove"
   ]
  },
  {
   "cell_type": "code",
   "execution_count": 150,
   "metadata": {},
   "outputs": [
    {
     "data": {
      "text/plain": [
       "['7', 'a', 's', 'G', ')', 'n', '(', ')', 'm', '9']"
      ]
     },
     "execution_count": 150,
     "metadata": {},
     "output_type": "execute_result"
    }
   ],
   "source": [
    "strlist = list(str)\n",
    "strlist"
   ]
  },
  {
   "cell_type": "code",
   "execution_count": 151,
   "metadata": {},
   "outputs": [],
   "source": [
    "def find(str, ch):\n",
    "    return [i for i, ltr in enumerate(str) if ltr == ch]"
   ]
  },
  {
   "cell_type": "code",
   "execution_count": 152,
   "metadata": {},
   "outputs": [
    {
     "data": {
      "text/plain": [
       "[6]"
      ]
     },
     "execution_count": 152,
     "metadata": {},
     "output_type": "execute_result"
    }
   ],
   "source": [
    "lb = find(str, \"(\")\n",
    "lb"
   ]
  },
  {
   "cell_type": "code",
   "execution_count": 153,
   "metadata": {},
   "outputs": [
    {
     "data": {
      "text/plain": [
       "[4, 7]"
      ]
     },
     "execution_count": 153,
     "metadata": {},
     "output_type": "execute_result"
    }
   ],
   "source": [
    "rb = find(str, \")\")\n",
    "rb"
   ]
  },
  {
   "cell_type": "code",
   "execution_count": 154,
   "metadata": {},
   "outputs": [
    {
     "data": {
      "text/plain": [
       "[6]"
      ]
     },
     "execution_count": 154,
     "metadata": {},
     "output_type": "execute_result"
    }
   ],
   "source": [
    "#wb = [x for x in lb and x > min(rb)]\n",
    "wb = [x for x in lb if x > min(rb)]\n",
    "wb"
   ]
  },
  {
   "cell_type": "code",
   "execution_count": 155,
   "metadata": {},
   "outputs": [
    {
     "name": "stdout",
     "output_type": "stream",
     "text": [
      "m<n\n",
      "['7', 'a', 's', 'G', 'n', '(', ')', 'm', '9']\n",
      "a=0\n",
      "['7', 'a', 's', 'G', 'n', '(', ')', 'm', '9']\n"
     ]
    }
   ],
   "source": [
    "a = 1\n",
    "while a:\n",
    "    str = convertjoin(strlist)\n",
    "    lb = lb = find(str, \"(\")\n",
    "    rb = find(str, \")\")\n",
    "    if lb == [] and rb == []:\n",
    "        break\n",
    "    elif lb == [] and rb != []:\n",
    "        for i in range(len(rb)):\n",
    "            strlist.pop(rb[i] - i)\n",
    "        break\n",
    "    elif lb != [] and rb == []:\n",
    "        for j in range(len(lb)):\n",
    "            strlist.pop(lb[j] - j)\n",
    "        break\n",
    "    else:\n",
    "        m = len(lb)\n",
    "        n = len(rb)\n",
    "        wbl = []\n",
    "        wbr = []\n",
    "        \n",
    "        if m > n:\n",
    "            wbr = [x for x in lb if x > max(rb)]\n",
    "            wbl = [x for x in lb if x > min(lb) and x < min(rb)]\n",
    "            if wbr != []:\n",
    "                for l in range(len(wbr)):\n",
    "                    strlist.pop(wbr[l] - l)\n",
    "            if wbl != []:\n",
    "                for n in range(len(wbl)):\n",
    "                    strlist.pop(wbl[n] - n)\n",
    "            a = 1\n",
    "            print(\"m>n\")\n",
    "            print(strlist)\n",
    "            continue\n",
    "            \n",
    "        elif m < n:\n",
    "            wbl = [x for x in rb if x < min(lb)]\n",
    "            wbr = [x for x in rb if x > max(lb) and x < max(rb)]\n",
    "            if wbr != []:\n",
    "                for l in range(len(wbr)):\n",
    "                    strlist.pop(wbr[l] - l)\n",
    "            if wbl != []:\n",
    "                for n in range(len(wbl)):\n",
    "                    strlist.pop(wbl[n] - n)\n",
    "            a = 1\n",
    "            print(\"m<n\")\n",
    "            print(strlist)\n",
    "            continue\n",
    "            \n",
    "            \n",
    "        else:\n",
    "            for t in range(m):\n",
    "                if lb[t] < rb[t]:\n",
    "                    a = 0\n",
    "                    print (\"a=0\")\n",
    "                    print(strlist)\n",
    "                    pass \n",
    "                      \n",
    "                elif lb[t] > rb[t]:\n",
    "                     strlist.pop(lb[t])\n",
    "                     a = 1\n",
    "                     print(\"m=n\")\n",
    "                     print(strlist)\n",
    "                     continue\n",
    "    "
   ]
  },
  {
   "cell_type": "code",
   "execution_count": 156,
   "metadata": {},
   "outputs": [
    {
     "name": "stdout",
     "output_type": "stream",
     "text": [
      "['7', 'a', 's', 'G', 'n', '(', ')', 'm', '9']\n"
     ]
    }
   ],
   "source": [
    "print(strlist)    "
   ]
  },
  {
   "cell_type": "code",
   "execution_count": 157,
   "metadata": {},
   "outputs": [
    {
     "data": {
      "text/plain": [
       "'7asGn()m9'"
      ]
     },
     "execution_count": 157,
     "metadata": {},
     "output_type": "execute_result"
    }
   ],
   "source": [
    "finishedstr = convertjoin(strlist)\n",
    "finishedstr"
   ]
  },
  {
   "cell_type": "code",
   "execution_count": null,
   "metadata": {},
   "outputs": [],
   "source": []
  }
 ],
 "metadata": {
  "kernelspec": {
   "display_name": "Python [conda env:PythonData]",
   "language": "python",
   "name": "conda-env-PythonData-py"
  },
  "language_info": {
   "codemirror_mode": {
    "name": "ipython",
    "version": 3
   },
   "file_extension": ".py",
   "mimetype": "text/x-python",
   "name": "python",
   "nbconvert_exporter": "python",
   "pygments_lexer": "ipython3",
   "version": "3.6.10"
  }
 },
 "nbformat": 4,
 "nbformat_minor": 4
}
