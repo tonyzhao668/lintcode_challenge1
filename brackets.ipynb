{
 "cells": [
  {
   "cell_type": "code",
   "execution_count": 1,
   "metadata": {},
   "outputs": [],
   "source": [
    "from numpy import random\n",
    "from random import shuffle\n",
    "import numpy as np\n",
    "import pandas as pd\n",
    "import string"
   ]
  },
  {
   "cell_type": "markdown",
   "metadata": {},
   "source": [
    "## Build a random string with brackets"
   ]
  },
  {
   "cell_type": "code",
   "execution_count": 2,
   "metadata": {},
   "outputs": [
    {
     "data": {
      "text/plain": [
       "'abcdefghijklmnopqrstuvwxyzABCDEFGHIJKLMNOPQRSTUVWXYZ'"
      ]
     },
     "execution_count": 2,
     "metadata": {},
     "output_type": "execute_result"
    }
   ],
   "source": [
    "string.ascii_letters\n",
    "# 'abcdefghijklmnopqrstuvwxyzABCDEFGHIJKLMNOPQRSTUVWXYZ'"
   ]
  },
  {
   "cell_type": "code",
   "execution_count": 3,
   "metadata": {},
   "outputs": [
    {
     "data": {
      "text/plain": [
       "'0123456789'"
      ]
     },
     "execution_count": 3,
     "metadata": {},
     "output_type": "execute_result"
    }
   ],
   "source": [
    "string.digits"
   ]
  },
  {
   "cell_type": "code",
   "execution_count": 4,
   "metadata": {},
   "outputs": [
    {
     "data": {
      "text/plain": [
       "'!\"#$%&\\'()*+,-./:;<=>?@[\\\\]^_`{|}~'"
      ]
     },
     "execution_count": 4,
     "metadata": {},
     "output_type": "execute_result"
    }
   ],
   "source": [
    "string.punctuation"
   ]
  },
  {
   "cell_type": "code",
   "execution_count": 5,
   "metadata": {},
   "outputs": [],
   "source": [
    "brk = '()'"
   ]
  },
  {
   "cell_type": "code",
   "execution_count": 6,
   "metadata": {},
   "outputs": [
    {
     "data": {
      "text/plain": [
       "')'"
      ]
     },
     "execution_count": 6,
     "metadata": {},
     "output_type": "execute_result"
    }
   ],
   "source": [
    "random.choice(list(brk))"
   ]
  },
  {
   "cell_type": "code",
   "execution_count": 7,
   "metadata": {},
   "outputs": [],
   "source": [
    "def random_char(y):\n",
    "    return ''.join(random.choice(list(string.ascii_letters)) for x in range(y))\n",
    "#     return ''.join(random.sample(string.ascii_lowercase, y))"
   ]
  },
  {
   "cell_type": "code",
   "execution_count": 8,
   "metadata": {},
   "outputs": [
    {
     "data": {
      "text/plain": [
       "'NYmmY'"
      ]
     },
     "execution_count": 8,
     "metadata": {},
     "output_type": "execute_result"
    }
   ],
   "source": [
    "random_char(5)"
   ]
  },
  {
   "cell_type": "code",
   "execution_count": 9,
   "metadata": {},
   "outputs": [
    {
     "data": {
      "text/plain": [
       "['Q', '1', '(', '2', ')', '6', '3', '5', '3', ')']"
      ]
     },
     "execution_count": 9,
     "metadata": {},
     "output_type": "execute_result"
    }
   ],
   "source": [
    "charlist = []\n",
    "\n",
    "randchar = \"\"\n",
    "for i in range(10):\n",
    "    ichar = []\n",
    "    l = random.choice(list(string.ascii_letters))\n",
    "    ichar.append(l)\n",
    "    b = random.choice(list(brk))\n",
    "    ichar.append(b)\n",
    "    d = random.choice(list(string.digits))\n",
    "    ichar.append(d)\n",
    "    charlist.append(random.choice(ichar))\n",
    "                    \n",
    "charlist "
   ]
  },
  {
   "cell_type": "code",
   "execution_count": 10,
   "metadata": {},
   "outputs": [
    {
     "data": {
      "text/plain": [
       "[0, 1, 2, 3, 4, 5, 6, 7, 8, 9]"
      ]
     },
     "execution_count": 10,
     "metadata": {},
     "output_type": "execute_result"
    }
   ],
   "source": [
    "list(range(len(charlist)))"
   ]
  },
  {
   "cell_type": "markdown",
   "metadata": {},
   "source": [
    "## Convert a list of characters into a string in two ways"
   ]
  },
  {
   "cell_type": "code",
   "execution_count": 11,
   "metadata": {},
   "outputs": [],
   "source": [
    "# def convert(s):  \n",
    "#     # initialization of string to \"\"\n",
    "#     new = \"\"  \n",
    "#     # traverse in the string \n",
    "#     for x in s:\n",
    "#         new += x   \n",
    "#     # return string \n",
    "#     return new \n",
    "\n",
    "# # driver code   \n",
    "# str2 = convert(charlist)\n",
    "# print(str)"
   ]
  },
  {
   "cell_type": "code",
   "execution_count": 12,
   "metadata": {},
   "outputs": [
    {
     "name": "stdout",
     "output_type": "stream",
     "text": [
      "Q1(2)6353)\n"
     ]
    }
   ],
   "source": [
    "def convertjoin(s):  \n",
    "    # initialization of string to \"\"\n",
    "    str1 = \"\"  \n",
    "    # using join function join the list s by \n",
    "    # separating words by str1\n",
    "    return(str1.join(s))\n",
    "      \n",
    "# driver code \n",
    "str = convertjoin(charlist)\n",
    "print(str)"
   ]
  },
  {
   "cell_type": "markdown",
   "metadata": {},
   "source": [
    "## Find out the wrong brackets and remove"
   ]
  },
  {
   "cell_type": "code",
   "execution_count": 13,
   "metadata": {},
   "outputs": [
    {
     "data": {
      "text/plain": [
       "['Q', '1', '(', '2', ')', '6', '3', '5', '3', ')']"
      ]
     },
     "execution_count": 13,
     "metadata": {},
     "output_type": "execute_result"
    }
   ],
   "source": [
    "strlist = list(str)\n",
    "strlist"
   ]
  },
  {
   "cell_type": "code",
   "execution_count": 14,
   "metadata": {},
   "outputs": [],
   "source": [
    "def find(str, ch):\n",
    "    return [i for i, ltr in enumerate(str) if ltr == ch]"
   ]
  },
  {
   "cell_type": "code",
   "execution_count": 15,
   "metadata": {},
   "outputs": [
    {
     "data": {
      "text/plain": [
       "[2]"
      ]
     },
     "execution_count": 15,
     "metadata": {},
     "output_type": "execute_result"
    }
   ],
   "source": [
    "lb = find(str, \"(\")\n",
    "lb"
   ]
  },
  {
   "cell_type": "code",
   "execution_count": 16,
   "metadata": {},
   "outputs": [
    {
     "data": {
      "text/plain": [
       "[4, 9]"
      ]
     },
     "execution_count": 16,
     "metadata": {},
     "output_type": "execute_result"
    }
   ],
   "source": [
    "rb = find(str, \")\")\n",
    "rb"
   ]
  },
  {
   "cell_type": "code",
   "execution_count": null,
   "metadata": {},
   "outputs": [],
   "source": [
    "a = 1\n",
    "while a:\n",
    "    str = convertjoin(strlist)\n",
    "    lb = lb = find(str, \"(\")\n",
    "    rb = find(str, \")\")\n",
    "    if lb == [] and rb == []:\n",
    "        break\n",
    "    elif lb == [] and rb != []:\n",
    "        for i in range(len(rb)):\n",
    "            strlist.pop(rb[i] - i)\n",
    "        break\n",
    "    elif lb != [] and rb == []:\n",
    "        for j in range(len(lb)):\n",
    "            strlist.pop(lb[j] - j)\n",
    "        break\n",
    "    else:\n",
    "        m = len(lb)\n",
    "        n = len(rb)\n",
    "        \n",
    "        if m > n:\n",
    "            for l in range(n):\n",
    "                if lb(l) > rb(l):\n",
    "                    strlist.pop(lb[l])\n",
    "                    a = 1\n",
    "                    print(\"m>n\")\n",
    "                    print(strlist)\n",
    "                    continue\n",
    "        elif m < n:\n",
    "            for s in range(m):\n",
    "                if rb[s] < lb[s]:\n",
    "                    strlist.pop(rb[s])\n",
    "                    a = 1\n",
    "                    print(\"m<n\")\n",
    "                    print(strlist)\n",
    "                    continue\n",
    "        else:\n",
    "            for t in range(m):\n",
    "                if lb[t] < rb[t]:\n",
    "                    a = 0\n",
    "                    pass \n",
    "                      \n",
    "                elif lb[t] > rb[t]:\n",
    "                     strlist.pop(lb[t])\n",
    "                     a = 1\n",
    "                     print(\"m=n\")\n",
    "                     print(strlist)\n",
    "                     continue\n",
    "    "
   ]
  },
  {
   "cell_type": "code",
   "execution_count": null,
   "metadata": {},
   "outputs": [],
   "source": [
    "# dis = len(lb)-len(rb)\n",
    "# if dis > 0:\n",
    "#     strlist.pop(lb[-1])\n",
    "# elif dis < 0:\n",
    "#     strlist.pop(rb[-1])\n",
    "# else:\n",
    "#     print(strlist)"
   ]
  },
  {
   "cell_type": "code",
   "execution_count": null,
   "metadata": {},
   "outputs": [],
   "source": [
    "# c = 1\n",
    "# index = 0\n",
    "# while c:\n",
    "#     lb = find(str, \"(\")\n",
    "#     rb = find(str, \")\")\n",
    "    \n",
    "#     if (lb == []) and (rb != []):\n",
    "#         for i in range(len(rb)):\n",
    "#             strlist.pop(rb[i] - i)\n",
    "#         break\n",
    "        \n",
    "#     elif (lb != []) and (rb == []):\n",
    "#         for j in range(len(lb)):\n",
    "#             strlist.pop(lb[j] - j)\n",
    "#         break\n",
    "            \n",
    "#     elif (lb == []) and (rb == []):\n",
    "#         break\n",
    "        \n",
    "#     else: # to consider if lb[0] < rb[0] first\n",
    "#         if lb[0] < rb[0]:\n",
    "#             lb.pop(0)\n",
    "#             rb.pop(0)\n",
    "#             c = 1\n",
    "#         else:   \n",
    "#             wr =[]\n",
    "#             wr = [x for x in rb if x < lb[0]]\n",
    "#             if wr != []\n",
    "#                 for m in range(len(wr)):\n",
    "#                     strlist.pop(rb[m]-m)\n",
    "#                     rb.pop(0)\n",
    "#                     print(strlist)\n",
    "#             if rb != []:\n",
    "#                 lb.pop(0)\n",
    "#                 rb.pop(0)\n",
    "#                 c = 1\n",
    "#             else:\n",
    "#                 c = 1\n",
    "            "
   ]
  },
  {
   "cell_type": "code",
   "execution_count": null,
   "metadata": {},
   "outputs": [],
   "source": [
    "# str = convert(strlist)\n",
    "# lb = find(str, \"(\")\n",
    "# rb = find(str, \")\")"
   ]
  },
  {
   "cell_type": "code",
   "execution_count": null,
   "metadata": {},
   "outputs": [],
   "source": [
    "# if (lb != []) or (rb != []):\n",
    "#     wr = []\n",
    "#     c = 1\n",
    "#     idex = 0\n",
    "    \n",
    "#     while c:\n",
    "              \n",
    "#         wr = [x for x in rb if x < lb[idex]]\n",
    "#         n = 0\n",
    "#         for j in wr:\n",
    "#             strlist.pop(j - n)   \n",
    "#             n += 1\n",
    "#             print(strlist)\n",
    "#         str = convert(strlist)\n",
    "#         lb = find(str, \"(\")\n",
    "#         rb = find(str, \")\")\n",
    "        \n",
    "#         dis = len(lb)-len(rb)\n",
    "#         if dis > 0:\n",
    "#             strlist.pop(lb[-1])\n",
    "#         elif dis < 0:\n",
    "#             strlist.pop(rb[-1])\n",
    "#         else:\n",
    "#             print(strlist)\n",
    "#     c = 0\n",
    "        \n",
    "\n",
    "        "
   ]
  },
  {
   "cell_type": "code",
   "execution_count": null,
   "metadata": {},
   "outputs": [],
   "source": [
    "print(strlist)    "
   ]
  },
  {
   "cell_type": "code",
   "execution_count": 21,
   "metadata": {},
   "outputs": [],
   "source": [
    "str = convert(strlist)\n",
    "lb = find(str, \"(\")\n",
    "rb = find(str, \")\")"
   ]
  },
  {
   "cell_type": "code",
   "execution_count": 22,
   "metadata": {},
   "outputs": [
    {
     "name": "stdout",
     "output_type": "stream",
     "text": [
      "['S', '6', '7', 'z', 'K', 'R', '4', 'e', 'd']\n"
     ]
    }
   ],
   "source": [
    "dis = len(lb)-len(rb)\n",
    "if dis > 0:\n",
    "    strlist.pop(lb[-1])\n",
    "elif dis < 0:\n",
    "    strlist.pop(rb[-1])\n",
    "else:\n",
    "    print(strlist)"
   ]
  },
  {
   "cell_type": "code",
   "execution_count": 23,
   "metadata": {},
   "outputs": [
    {
     "name": "stdout",
     "output_type": "stream",
     "text": [
      "[]\n",
      "[]\n"
     ]
    }
   ],
   "source": [
    "str = convert(strlist)\n",
    "print(lb)\n",
    "print(rb)"
   ]
  },
  {
   "cell_type": "code",
   "execution_count": 24,
   "metadata": {},
   "outputs": [
    {
     "data": {
      "text/plain": [
       "['S', '6', '7', 'z', 'K', 'R', '4', 'e', 'd']"
      ]
     },
     "execution_count": 24,
     "metadata": {},
     "output_type": "execute_result"
    }
   ],
   "source": [
    "strlist"
   ]
  },
  {
   "cell_type": "code",
   "execution_count": 25,
   "metadata": {},
   "outputs": [
    {
     "data": {
      "text/plain": [
       "'S67zKR4ed'"
      ]
     },
     "execution_count": 25,
     "metadata": {},
     "output_type": "execute_result"
    }
   ],
   "source": [
    "str = convert(strlist)\n",
    "str"
   ]
  },
  {
   "cell_type": "code",
   "execution_count": null,
   "metadata": {},
   "outputs": [],
   "source": []
  }
 ],
 "metadata": {
  "kernelspec": {
   "display_name": "Python [conda env:PythonData]",
   "language": "python",
   "name": "conda-env-PythonData-py"
  },
  "language_info": {
   "codemirror_mode": {
    "name": "ipython",
    "version": 3
   },
   "file_extension": ".py",
   "mimetype": "text/x-python",
   "name": "python",
   "nbconvert_exporter": "python",
   "pygments_lexer": "ipython3",
   "version": "3.6.10"
  }
 },
 "nbformat": 4,
 "nbformat_minor": 4
}
