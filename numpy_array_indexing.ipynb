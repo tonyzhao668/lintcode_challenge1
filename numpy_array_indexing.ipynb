{
 "cells": [
  {
   "cell_type": "markdown",
   "id": "5eb0b2c6",
   "metadata": {},
   "source": [
    "## Numpy Array Indexing"
   ]
  },
  {
   "cell_type": "code",
   "execution_count": 1,
   "id": "de0379d7",
   "metadata": {},
   "outputs": [],
   "source": [
    "import numpy as np"
   ]
  },
  {
   "cell_type": "markdown",
   "id": "0e03f8d6",
   "metadata": {},
   "source": [
    "## Basic Indexing"
   ]
  },
  {
   "cell_type": "code",
   "execution_count": 2,
   "id": "490a4537",
   "metadata": {},
   "outputs": [
    {
     "data": {
      "text/plain": [
       "array([1, 3, 5])"
      ]
     },
     "execution_count": 2,
     "metadata": {},
     "output_type": "execute_result"
    }
   ],
   "source": [
    "x = np.array([0, 1, 2, 3, 4, 5, 6, 7, 8, 9])\n",
    "x[1:7:2] # [start_index, end_index, step] not include the last item"
   ]
  },
  {
   "cell_type": "code",
   "execution_count": 33,
   "id": "dfaba64e",
   "metadata": {},
   "outputs": [
    {
     "data": {
      "text/plain": [
       "array([0, 2, 4, 6, 8])"
      ]
     },
     "execution_count": 33,
     "metadata": {},
     "output_type": "execute_result"
    }
   ],
   "source": [
    "x[::2] #start from begining to the end, step 2"
   ]
  },
  {
   "cell_type": "code",
   "execution_count": 3,
   "id": "e3ad5726",
   "metadata": {},
   "outputs": [
    {
     "data": {
      "text/plain": [
       "array([8, 9])"
      ]
     },
     "execution_count": 3,
     "metadata": {},
     "output_type": "execute_result"
    }
   ],
   "source": [
    "x[-2:10]"
   ]
  },
  {
   "cell_type": "code",
   "execution_count": 4,
   "id": "89eb16b4",
   "metadata": {},
   "outputs": [
    {
     "data": {
      "text/plain": [
       "array([7, 6, 5, 4])"
      ]
     },
     "execution_count": 4,
     "metadata": {},
     "output_type": "execute_result"
    }
   ],
   "source": [
    "x[-3:3:-1]"
   ]
  },
  {
   "cell_type": "code",
   "execution_count": 5,
   "id": "e08d20d7",
   "metadata": {},
   "outputs": [
    {
     "data": {
      "text/plain": [
       "array([5, 6, 7, 8, 9])"
      ]
     },
     "execution_count": 5,
     "metadata": {},
     "output_type": "execute_result"
    }
   ],
   "source": [
    "x[5:]"
   ]
  },
  {
   "cell_type": "markdown",
   "id": "d7125d92",
   "metadata": {},
   "source": [
    "#### note x[1:10:5,::-1] can also be implemented as obj = (slice(1,10,5), slice(None,None,-1)); x[obj] ."
   ]
  },
  {
   "cell_type": "code",
   "execution_count": 9,
   "id": "bfe25efb",
   "metadata": {},
   "outputs": [
    {
     "data": {
      "text/plain": [
       "(2, 3, 1)"
      ]
     },
     "execution_count": 9,
     "metadata": {},
     "output_type": "execute_result"
    }
   ],
   "source": [
    "y = np.array([[[1],[2],[3]], [[4],[5],[6]]])\n",
    "#y = np.array([[1, 2, 3], [4, 5, 6]])\n",
    "y.shape"
   ]
  },
  {
   "cell_type": "code",
   "execution_count": 10,
   "id": "671193a7",
   "metadata": {},
   "outputs": [
    {
     "data": {
      "text/plain": [
       "array([[[4],\n",
       "        [5],\n",
       "        [6]]])"
      ]
     },
     "execution_count": 10,
     "metadata": {},
     "output_type": "execute_result"
    }
   ],
   "source": [
    "# Notice y[1:2] == y[1] == y[1:]\n",
    "y[1:2]"
   ]
  },
  {
   "cell_type": "code",
   "execution_count": 15,
   "id": "471066b8",
   "metadata": {},
   "outputs": [
    {
     "data": {
      "text/plain": [
       "array([[1, 2, 3],\n",
       "       [4, 5, 6]])"
      ]
     },
     "execution_count": 15,
     "metadata": {},
     "output_type": "execute_result"
    }
   ],
   "source": [
    "y[...,0]"
   ]
  },
  {
   "cell_type": "markdown",
   "id": "56f5bee1",
   "metadata": {},
   "source": [
    "## Advanced Indexing"
   ]
  },
  {
   "cell_type": "code",
   "execution_count": null,
   "id": "dd181100",
   "metadata": {},
   "outputs": [],
   "source": [
    "#The definition of advanced indexing means that x[(1,2,3),] is fundamentally different than x[(1,2,3)]. \n",
    "#The latter is equivalent to x[1,2,3] which will trigger basic selection \n",
    "#while the former will trigger advanced indexing. "
   ]
  },
  {
   "cell_type": "code",
   "execution_count": 16,
   "id": "53bfbcbd",
   "metadata": {},
   "outputs": [
    {
     "data": {
      "text/plain": [
       "array([1, 4, 5])"
      ]
     },
     "execution_count": 16,
     "metadata": {},
     "output_type": "execute_result"
    }
   ],
   "source": [
    "x1 = np.array([[1, 2], [3, 4], [5, 6]])\n",
    "x1[[0, 1, 2], [0, 1, 0]] # the [0, 1, 2] index the rows, [0, 1, 0] indexing the relavent columns"
   ]
  },
  {
   "cell_type": "code",
   "execution_count": 17,
   "id": "6d46e69e",
   "metadata": {},
   "outputs": [
    {
     "data": {
      "text/plain": [
       "array([[1, 2],\n",
       "       [3, 4],\n",
       "       [5, 6]])"
      ]
     },
     "execution_count": 17,
     "metadata": {},
     "output_type": "execute_result"
    }
   ],
   "source": [
    "x1[[0,1,2], ] # means take all the columns"
   ]
  },
  {
   "cell_type": "code",
   "execution_count": 18,
   "id": "e10cbee7",
   "metadata": {},
   "outputs": [
    {
     "data": {
      "text/plain": [
       "array([[ 0,  2],\n",
       "       [ 9, 11]])"
      ]
     },
     "execution_count": 18,
     "metadata": {},
     "output_type": "execute_result"
    }
   ],
   "source": [
    "x2 = np.array([[ 0,  1,  2],\n",
    "              [ 3,  4,  5],\n",
    "              [ 6,  7,  8],\n",
    "              [ 9, 10, 11]])\n",
    "rows = np.array([[0, 0],    # x2[[0, 0], ] means get two times x2[[0],]\n",
    "                 [3, 3]], dtype=np.intp)\n",
    "columns = np.array([[0, 2],\n",
    "                    [0, 2]], dtype=np.intp)\n",
    "x2[rows, columns]"
   ]
  },
  {
   "cell_type": "code",
   "execution_count": 25,
   "id": "0730ab55",
   "metadata": {},
   "outputs": [
    {
     "data": {
      "text/plain": [
       "array([[ 0,  2],\n",
       "       [ 9, 11]])"
      ]
     },
     "execution_count": 25,
     "metadata": {},
     "output_type": "execute_result"
    }
   ],
   "source": [
    "x2[([0,0],[3, 3]), ([0,2], [0,2])]"
   ]
  },
  {
   "cell_type": "code",
   "execution_count": 26,
   "id": "590be792",
   "metadata": {},
   "outputs": [
    {
     "data": {
      "text/plain": [
       "array([[0, 1, 2],\n",
       "       [0, 1, 2]])"
      ]
     },
     "execution_count": 26,
     "metadata": {},
     "output_type": "execute_result"
    }
   ],
   "source": [
    "x2[[0, 0], ]"
   ]
  },
  {
   "cell_type": "code",
   "execution_count": 29,
   "id": "d836f125",
   "metadata": {},
   "outputs": [
    {
     "data": {
      "text/plain": [
       "array([[[ 6,  8],\n",
       "        [ 6,  8]],\n",
       "\n",
       "       [[ 9, 11],\n",
       "        [ 9, 11]]])"
      ]
     },
     "execution_count": 29,
     "metadata": {},
     "output_type": "execute_result"
    }
   ],
   "source": [
    "x2[2:, ([0,2], [0, 2])]"
   ]
  },
  {
   "cell_type": "code",
   "execution_count": 30,
   "id": "a7e1c1c2",
   "metadata": {},
   "outputs": [
    {
     "data": {
      "text/plain": [
       "array([[4, 5]])"
      ]
     },
     "execution_count": 30,
     "metadata": {},
     "output_type": "execute_result"
    }
   ],
   "source": [
    "x2[1:2, 1:3]"
   ]
  },
  {
   "cell_type": "code",
   "execution_count": 31,
   "id": "b1e2f105",
   "metadata": {},
   "outputs": [
    {
     "data": {
      "text/plain": [
       "array([[4, 5]])"
      ]
     },
     "execution_count": 31,
     "metadata": {},
     "output_type": "execute_result"
    }
   ],
   "source": [
    "x2[1:2, [1, 2]]"
   ]
  },
  {
   "cell_type": "code",
   "execution_count": null,
   "id": "f0081c7c",
   "metadata": {},
   "outputs": [],
   "source": []
  }
 ],
 "metadata": {
  "kernelspec": {
   "display_name": "Python [conda env:pythondata] *",
   "language": "python",
   "name": "conda-env-pythondata-py"
  },
  "language_info": {
   "codemirror_mode": {
    "name": "ipython",
    "version": 3
   },
   "file_extension": ".py",
   "mimetype": "text/x-python",
   "name": "python",
   "nbconvert_exporter": "python",
   "pygments_lexer": "ipython3",
   "version": "3.6.10"
  }
 },
 "nbformat": 4,
 "nbformat_minor": 5
}
