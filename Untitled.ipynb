{
 "cells": [
  {
   "cell_type": "markdown",
   "id": "5eb0b2c6",
   "metadata": {},
   "source": [
    "## Fibonacci Generator"
   ]
  },
  {
   "cell_type": "code",
   "execution_count": null,
   "id": "490a4537",
   "metadata": {},
   "outputs": [],
   "source": [
    "a = int(input('Give amount: '))"
   ]
  },
  {
   "cell_type": "code",
   "execution_count": null,
   "id": "bc6b6e6a",
   "metadata": {},
   "outputs": [],
   "source": [
    "def fib(n):\n",
    "    a, b = 0, 1\n",
    "    for _ in range(n):\n",
    "        yield a\n",
    "        a, b = b, a + b\n",
    "\n",
    "print(list(fib(a)))"
   ]
  },
  {
   "cell_type": "code",
   "execution_count": null,
   "id": "e3ad5726",
   "metadata": {},
   "outputs": [],
   "source": []
  }
 ],
 "metadata": {
  "kernelspec": {
   "display_name": "Python [conda env:pythondata] *",
   "language": "python",
   "name": "conda-env-pythondata-py"
  },
  "language_info": {
   "codemirror_mode": {
    "name": "ipython",
    "version": 3
   },
   "file_extension": ".py",
   "mimetype": "text/x-python",
   "name": "python",
   "nbconvert_exporter": "python",
   "pygments_lexer": "ipython3",
   "version": "3.6.10"
  }
 },
 "nbformat": 4,
 "nbformat_minor": 5
}
