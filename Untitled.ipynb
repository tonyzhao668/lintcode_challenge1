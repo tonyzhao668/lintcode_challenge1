{
 "cells": [
  {
   "cell_type": "markdown",
   "id": "a6655d2a",
   "metadata": {},
   "source": [
    "## Reverse any given number"
   ]
  },
  {
   "cell_type": "code",
   "execution_count": 1,
   "id": "b50afed1",
   "metadata": {},
   "outputs": [
    {
     "name": "stdout",
     "output_type": "stream",
     "text": [
      "Enter the number: 7896\n"
     ]
    }
   ],
   "source": [
    "num = int(input(\"Enter the number: \"))  "
   ]
  },
  {
   "cell_type": "code",
   "execution_count": 2,
   "id": "c83ee68c",
   "metadata": {},
   "outputs": [
    {
     "name": "stdout",
     "output_type": "stream",
     "text": [
      "n Reverse of entered number is = 6987\n"
     ]
    }
   ],
   "source": [
    "revr_num = 0    # initial value is 0. It will hold the reversed number  \n",
    "def recur_reverse(num):  \n",
    "    global revr_num   # We can use it out of the function  \n",
    "    if (num > 0):  \n",
    "        Reminder = num % 10  \n",
    "        revr_num = (revr_num * 10) + Reminder  \n",
    "        recur_reverse(num // 10)  \n",
    "    return revr_num  \n",
    "   \n",
    "revr_num = recur_reverse(num)  \n",
    "print(f\"n Reverse of entered number is = {revr_num}\")  "
   ]
  },
  {
   "cell_type": "code",
   "execution_count": null,
   "id": "4d8b9640",
   "metadata": {},
   "outputs": [],
   "source": [
    "## Reverse any given string"
   ]
  }
 ],
 "metadata": {
  "kernelspec": {
   "display_name": "Python [conda env:pythondata] *",
   "language": "python",
   "name": "conda-env-pythondata-py"
  },
  "language_info": {
   "codemirror_mode": {
    "name": "ipython",
    "version": 3
   },
   "file_extension": ".py",
   "mimetype": "text/x-python",
   "name": "python",
   "nbconvert_exporter": "python",
   "pygments_lexer": "ipython3",
   "version": "3.6.10"
  }
 },
 "nbformat": 4,
 "nbformat_minor": 5
}
